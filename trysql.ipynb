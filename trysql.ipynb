{
 "cells": [
  {
   "cell_type": "code",
   "execution_count": 4,
   "id": "67d074a0",
   "metadata": {},
   "outputs": [
    {
     "name": "stdout",
     "output_type": "stream",
     "text": [
      "('Art & Sculpture', 34, 14935.0, -594.0, -1609.0, 12732.0, -2203.0)\n",
      "('Basket', 13, 3744.0, -316.79998779296875, 0.0, 3427.199951171875, -316.79998779296875)\n",
      "('Basket', 12, 3825.0, -201.60000610351562, -288.0, 3335.39990234375, -489.6000061035156)\n"
     ]
    }
   ],
   "source": [
    "import pyodbc \n",
    "import json\n",
    "# ipconfig /all\n",
    "with open(\"json.json\" ,\"r\" , encoding='utf-8-sig') as creds:\n",
    "    cred = json.load(creds)\n",
    "server = cred['server']\n",
    "database = cred['database'] \n",
    "username = cred['username']\n",
    "password = cred['password'] \n",
    "\n",
    "# connection = pyodbc.connect('DRIVER={SQL Server Native Client 11.0};SERVER='+server+';DATABASE='+database+';UID='+username+';PWD='+ password)\n",
    "with pyodbc.connect('DRIVER={SQL Server Native Client 11.0};SERVER='+server+';DATABASE='+database+';UID='+username+';PWD='+ password) as connection :\n",
    "    cursor = connection.cursor()\n",
    "    cursor.execute('select top(3)* from main_data')\n",
    "    rows = cursor.fetchall()\n",
    "    for row in rows:\n",
    "        print (row)\n",
    "\n"
   ]
  }
 ],
 "metadata": {
  "kernelspec": {
   "display_name": "Python 3 (ipykernel)",
   "language": "python",
   "name": "python3"
  },
  "language_info": {
   "codemirror_mode": {
    "name": "ipython",
    "version": 3
   },
   "file_extension": ".py",
   "mimetype": "text/x-python",
   "name": "python",
   "nbconvert_exporter": "python",
   "pygments_lexer": "ipython3",
   "version": "3.9.7"
  }
 },
 "nbformat": 4,
 "nbformat_minor": 5
}
